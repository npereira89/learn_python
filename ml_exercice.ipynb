{
 "cells": [
  {
   "cell_type": "markdown",
   "id": "8ea3f7e2-8e80-4d5f-aa2f-74cde49f7d9d",
   "metadata": {},
   "source": [
    "## Machine Learning Process\n",
    "* Loading data\n",
    "* Preprocessing\n",
    "* Training a model\n",
    "* Evaluating the model\n",
    "* Making predictions"
   ]
  },
  {
   "cell_type": "code",
   "execution_count": 10,
   "id": "d1a521a6-c839-4b1d-854d-1ecfce5f588d",
   "metadata": {},
   "outputs": [
    {
     "name": "stdout",
     "output_type": "stream",
     "text": [
      "['Classical']\n"
     ]
    }
   ],
   "source": [
    "#Import necessary libraries\n",
    "import pandas as pd\n",
    "from sklearn.linear_model import LogisticRegression\n",
    "\n",
    "music_data = pd.read_csv(\"music.csv\")\n",
    "music_data.head()\n",
    "\n",
    "x = music_data.drop(columns=[\"genre\"])\n",
    "y = music_data[\"genre\"]\n",
    "x.head()\n",
    "model = LogisticRegression(solver='lbfgs', max_iter=1000)\n",
    "model.fit(x.to_numpy(), y)\n",
    "LogisticRegression()\n",
    "predictions = model.predict([[52,1]])\n",
    "print(predictions)"
   ]
  },
  {
   "cell_type": "code",
   "execution_count": 9,
   "id": "29ef167d-9525-4237-a56b-8c4c90cbb5a6",
   "metadata": {},
   "outputs": [
    {
     "name": "stdout",
     "output_type": "stream",
     "text": [
      "Predictions: ['Dance' 'HipHop' 'Classical' 'Classical' 'HipHop']\n"
     ]
    },
    {
     "name": "stderr",
     "output_type": "stream",
     "text": [
      "C:\\Users\\Nuno\\AppData\\Local\\Programs\\Python\\Lib\\site-packages\\sklearn\\utils\\validation.py:2749: UserWarning: X does not have valid feature names, but StandardScaler was fitted with feature names\n",
      "  warnings.warn(\n"
     ]
    }
   ],
   "source": [
    "#Import necessary libraries\n",
    "import pandas as pd\n",
    "from sklearn.linear_model import LogisticRegression\n",
    "import numpy as np\n",
    "from sklearn.model_selection import train_test_split\n",
    "from sklearn.preprocessing import StandardScaler\n",
    "from sklearn.metrics import accuracy_score\n",
    "\n",
    "\n",
    "music_data = pd.read_csv(\"music.csv\")\n",
    "music_data.head()\n",
    "\n",
    "x = music_data.drop(columns=[\"genre\"])\n",
    "y = music_data[\"genre\"]\n",
    "x_train, x_test, y_train, y_test = train_test_split(x, y, test_size=1, random_state=20)\n",
    "scaler = StandardScaler()\n",
    "x_train_scaled = scaler.fit_transform(x_train)\n",
    "x_test_scaled = scaler.transform(x_test)\n",
    "model = LogisticRegression(solver='lbfgs', max_iter=1000)\n",
    "model.fit(x_train_scaled, y_train)\n",
    "y_pred = model.predict(x_test_scaled)\n",
    "accuracy = accuracy_score(y_test,y_pred)\n",
    "#print(\"Accurancy\", accuracy)\n",
    "new_data = np.array([[15, 0],\n",
    "                     [15, 1],\n",
    "                     [36, 1],\n",
    "                     [70, 1],\n",
    "                     [11, 1]])\n",
    "new_data_scaler = scaler.transform(new_data)\n",
    "predictions = model.predict(new_data_scaler)\n",
    "print(\"Predictions:\", predictions)"
   ]
  },
  {
   "cell_type": "code",
   "execution_count": 5,
   "id": "0d5644ef-252a-4a85-96b6-6493f474ecf2",
   "metadata": {},
   "outputs": [
    {
     "name": "stdout",
     "output_type": "stream",
     "text": [
      "['Male']\n"
     ]
    }
   ],
   "source": [
    "#Import necessary libraries\n",
    "import pandas as pd\n",
    "from sklearn.linear_model import LogisticRegression\n",
    "\n",
    "music_data = pd.read_csv(\"indian_liver_dataset.csv\")\n",
    "music_data.head()\n",
    "\n",
    "x = music_data.drop(columns=[\"gender\",\"tot_bilirubin\",\"tot_bilirubin\",\"direct_bilirubin\",\"tot_proteins\",\"albumin\",\"ag_ratio\",\"sgpt\",\"sgot\",\"alkphos\"])\n",
    "y = music_data[\"gender\"]\n",
    "x.head()\n",
    "model = LogisticRegression(solver='lbfgs', max_iter=1000)\n",
    "model.fit(x.to_numpy(), y)\n",
    "LogisticRegression()\n",
    "predictions = model.predict([[70,2]])\n",
    "print(predictions)"
   ]
  },
  {
   "cell_type": "code",
   "execution_count": 127,
   "id": "d129f582-6b08-48a6-aa0c-c9820a93c80a",
   "metadata": {},
   "outputs": [
    {
     "name": "stdout",
     "output_type": "stream",
     "text": [
      "\t#########################\n",
      "\tTABUADA DE MULTIPLICACAO\n",
      "\t#########################\n",
      "***********\n",
      "* 1*1=1   *\n",
      "* 1*2=2   *\n",
      "* 1*3=3   *\n",
      "* 1*4=4   *\n",
      "* 1*5=5   *\n",
      "* 1*6=6   *\n",
      "* 1*7=7   *\n",
      "* 1*8=8   *\n",
      "* 1*9=9   *\n",
      "***********\n",
      "* 2*1=2   *\n",
      "* 2*2=4   *\n",
      "* 2*3=6   *\n",
      "* 2*4=8   *\n",
      "* 2*6=12  *\n",
      "* 2*7=14  *\n",
      "* 2*8=16  *\n",
      "* 2*9=18  *\n",
      "***********\n",
      "* 3*1=3   *\n",
      "* 3*2=6   *\n",
      "* 3*3=9   *\n",
      "* 3*4=12  *\n",
      "* 3*5=15  *\n",
      "* 3*6=18  *\n",
      "* 3*7=21  *\n",
      "* 3*8=24  *\n",
      "* 3*9=27  *\n",
      "***********\n",
      "* 4*1=4   *\n",
      "* 4*2=8   *\n",
      "* 4*3=12  *\n",
      "* 4*4=16  *\n",
      "* 4*5=20  *\n",
      "* 4*6=24  *\n",
      "* 4*7=28  *\n",
      "* 4*8=32  *\n",
      "* 4*9=36  *\n",
      "***********\n",
      "* 5*1=5   *\n",
      "* 5*3=15  *\n",
      "* 5*4=20  *\n",
      "* 5*5=25  *\n",
      "* 5*6=30  *\n",
      "* 5*7=35  *\n",
      "* 5*8=40  *\n",
      "* 5*9=45  *\n",
      "***********\n",
      "* 6*1=6   *\n",
      "* 6*2=12  *\n",
      "* 6*3=18  *\n",
      "* 6*4=24  *\n",
      "* 6*5=30  *\n",
      "* 6*6=36  *\n",
      "* 6*7=42  *\n",
      "* 6*8=48  *\n",
      "* 6*9=54  *\n",
      "***********\n",
      "* 7*1=7   *\n",
      "* 7*2=14  *\n",
      "* 7*3=21  *\n",
      "* 7*4=28  *\n",
      "* 7*5=35  *\n",
      "* 7*6=42  *\n",
      "* 7*7=49  *\n",
      "* 7*8=56  *\n",
      "* 7*9=63  *\n",
      "***********\n",
      "* 8*1=8   *\n",
      "* 8*2=16  *\n",
      "* 8*3=24  *\n",
      "* 8*4=32  *\n",
      "* 8*5=40  *\n",
      "* 8*6=48  *\n",
      "* 8*7=56  *\n",
      "* 8*8=64  *\n",
      "* 8*9=72  *\n",
      "***********\n",
      "* 9*1=9   *\n",
      "* 9*2=18  *\n",
      "* 9*3=27  *\n",
      "* 9*4=36  *\n",
      "* 9*5=45  *\n",
      "* 9*6=54  *\n",
      "* 9*7=63  *\n",
      "* 9*8=72  *\n",
      "* 9*9=81  *\n",
      "***********\n"
     ]
    }
   ],
   "source": [
    "print('\\t'+'#' * 25)\n",
    "print('\\t'+\"TABUADA DE MULTIPLICACAO\")\n",
    "print('\\t'+'#' * 25)\n",
    "\n",
    "for x in range(1,10):\n",
    "    print('*' * 11)\n",
    "    for y in range(1,10):\n",
    "        value = int(\"{}\".format(x*y))\n",
    "        if value > 10:\n",
    "            print(\"*\" + \" {}*{}={}\".format(x, y, x * y) + \" \" * 2 + '*')\n",
    "        if value < 10:\n",
    "            print(\"*\" + \" {}*{}={}\".format(x, y, x * y) + \" \" * 3 + '*')\n",
    "print('*' * 11)"
   ]
  }
 ],
 "metadata": {
  "kernelspec": {
   "display_name": "Python 3 (ipykernel)",
   "language": "python",
   "name": "python3"
  },
  "language_info": {
   "codemirror_mode": {
    "name": "ipython",
    "version": 3
   },
   "file_extension": ".py",
   "mimetype": "text/x-python",
   "name": "python",
   "nbconvert_exporter": "python",
   "pygments_lexer": "ipython3",
   "version": "3.13.2"
  }
 },
 "nbformat": 4,
 "nbformat_minor": 5
}
