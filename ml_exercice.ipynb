{
 "cells": [
  {
   "cell_type": "markdown",
   "id": "8ea3f7e2-8e80-4d5f-aa2f-74cde49f7d9d",
   "metadata": {},
   "source": [
    "## Machine Learning Process\n",
    "* Loading data\n",
    "* Preprocessing\n",
    "* Training a model\n",
    "* Evaluating the model\n",
    "* Making predictions"
   ]
  },
  {
   "cell_type": "code",
   "execution_count": 10,
   "id": "d1a521a6-c839-4b1d-854d-1ecfce5f588d",
   "metadata": {},
   "outputs": [
    {
     "name": "stdout",
     "output_type": "stream",
     "text": [
      "['Classical']\n"
     ]
    }
   ],
   "source": [
    "#Import necessary libraries\n",
    "import pandas as pd\n",
    "from sklearn.linear_model import LogisticRegression\n",
    "\n",
    "music_data = pd.read_csv(\"music.csv\")\n",
    "music_data.head()\n",
    "\n",
    "x = music_data.drop(columns=[\"genre\"])\n",
    "y = music_data[\"genre\"]\n",
    "x.head()\n",
    "model = LogisticRegression(solver='lbfgs', max_iter=1000)\n",
    "model.fit(x.to_numpy(), y)\n",
    "LogisticRegression()\n",
    "predictions = model.predict([[52,1]])\n",
    "print(predictions)"
   ]
  },
  {
   "cell_type": "code",
   "execution_count": 9,
   "id": "29ef167d-9525-4237-a56b-8c4c90cbb5a6",
   "metadata": {},
   "outputs": [
    {
     "name": "stdout",
     "output_type": "stream",
     "text": [
      "Predictions: ['Dance' 'HipHop' 'Classical' 'Classical' 'HipHop']\n"
     ]
    },
    {
     "name": "stderr",
     "output_type": "stream",
     "text": [
      "C:\\Users\\Nuno\\AppData\\Local\\Programs\\Python\\Lib\\site-packages\\sklearn\\utils\\validation.py:2749: UserWarning: X does not have valid feature names, but StandardScaler was fitted with feature names\n",
      "  warnings.warn(\n"
     ]
    }
   ],
   "source": [
    "#Import necessary libraries\n",
    "import pandas as pd\n",
    "from sklearn.linear_model import LogisticRegression\n",
    "import numpy as np\n",
    "from sklearn.model_selection import train_test_split\n",
    "from sklearn.preprocessing import StandardScaler\n",
    "from sklearn.metrics import accuracy_score\n",
    "\n",
    "\n",
    "music_data = pd.read_csv(\"music.csv\")\n",
    "music_data.head()\n",
    "\n",
    "x = music_data.drop(columns=[\"genre\"])\n",
    "y = music_data[\"genre\"]\n",
    "x_train, x_test, y_train, y_test = train_test_split(x, y, test_size=1, random_state=20)\n",
    "scaler = StandardScaler()\n",
    "x_train_scaled = scaler.fit_transform(x_train)\n",
    "x_test_scaled = scaler.transform(x_test)\n",
    "model = LogisticRegression(solver='lbfgs', max_iter=1000)\n",
    "model.fit(x_train_scaled, y_train)\n",
    "y_pred = model.predict(x_test_scaled)\n",
    "accuracy = accuracy_score(y_test,y_pred)\n",
    "#print(\"Accurancy\", accuracy)\n",
    "new_data = np.array([[15, 0],\n",
    "                     [15, 1],\n",
    "                     [36, 1],\n",
    "                     [70, 1],\n",
    "                     [11, 1]])\n",
    "new_data_scaler = scaler.transform(new_data)\n",
    "predictions = model.predict(new_data_scaler)\n",
    "print(\"Predictions:\", predictions)"
   ]
  },
  {
   "cell_type": "code",
   "execution_count": 5,
   "id": "0d5644ef-252a-4a85-96b6-6493f474ecf2",
   "metadata": {},
   "outputs": [
    {
     "name": "stdout",
     "output_type": "stream",
     "text": [
      "['Male']\n"
     ]
    }
   ],
   "source": [
    "#Import necessary libraries\n",
    "import pandas as pd\n",
    "from sklearn.linear_model import LogisticRegression\n",
    "\n",
    "music_data = pd.read_csv(\"indian_liver_dataset.csv\")\n",
    "music_data.head()\n",
    "\n",
    "x = music_data.drop(columns=[\"gender\",\"tot_bilirubin\",\"tot_bilirubin\",\"direct_bilirubin\",\"tot_proteins\",\"albumin\",\"ag_ratio\",\"sgpt\",\"sgot\",\"alkphos\"])\n",
    "y = music_data[\"gender\"]\n",
    "x.head()\n",
    "model = LogisticRegression(solver='lbfgs', max_iter=1000)\n",
    "model.fit(x.to_numpy(), y)\n",
    "LogisticRegression()\n",
    "predictions = model.predict([[70,2]])\n",
    "print(predictions)"
   ]
  }
 ],
 "metadata": {
  "kernelspec": {
   "display_name": "Python 3 (ipykernel)",
   "language": "python",
   "name": "python3"
  },
  "language_info": {
   "codemirror_mode": {
    "name": "ipython",
    "version": 3
   },
   "file_extension": ".py",
   "mimetype": "text/x-python",
   "name": "python",
   "nbconvert_exporter": "python",
   "pygments_lexer": "ipython3",
   "version": "3.13.2"
  }
 },
 "nbformat": 4,
 "nbformat_minor": 5
}
